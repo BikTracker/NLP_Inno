{
 "cells": [
  {
   "cell_type": "markdown",
   "metadata": {
    "id": "RKboZnAdgrRM"
   },
   "source": [
    "# [NLP] Assignment 1: Tokenization\n",
    "\n",
    "In this assignment, you need to tokenize the text of the Twitter(X) users posts(tweets). The assignment consists of two tasks. When you finish all the tasks, create a GitHub repository for this assignment (you can use this repo later for the other assignments) and submit this notebook in the repository. Leave `requirements.txt` file if your code requires additional installations. Submit the link to the repository in Moodle.\n",
    "\n",
    "The [data](https://drive.google.com/file/d/15x_wPAflvYQ2Xh38iNQGrqUIWLj5l5Nw/view?usp=share_link) contains 5 files whereby each contains 44 tweets. Each tweet is separated by a newline."
   ]
  },
  {
   "cell_type": "markdown",
   "metadata": {
    "id": "aLDjjAvemUP_"
   },
   "source": [
    "## Task 1. Tokenize some tweets manually (20 points)\n",
    "\n",
    "As a first task you need to tokenize first 15 tweets from `file2` by hand. This will allow you to understand the problem from a linguistic point of view. The guidelines for tweet tokenization are as follows:\n",
    "\n",
    "- Each smiley is a separate token\n",
    "- Each hashtag is an individual token. Each user reference is an individual token\n",
    "- If a word has spaces between them then it is converted to a single token\n",
    "- All punctuations are individual tokens. This includes double-quotes and single quotes also\n",
    "- A URL is a single token\n",
    "\n",
    "Example of output\n",
    "\n",
    "    Input tweet\n",
    "    @xfranman Old age has made N A T O!\n",
    "\n",
    "    Tokenized tweet (separated by comma)\n",
    "    @xfranman , Old , age , has , made , NATO , !"
   ]
  },
  {
   "cell_type": "markdown",
   "metadata": {
    "id": "7KKKwTidnzUw"
   },
   "source": [
    "\n",
    "    1. Input tweet\n",
    "    Camping in Maine for the weekend. Hey Dad, Mama Loves YOU: http://www.mamapalooza.com\n",
    "    1. Tokenized tweet\n",
    "    Camping , in , Maine , for , the , weekend , . , Hey , Dad , , , Mama , Loves , YOU , : , http://www.mamapalooza.com\n",
    "\n",
    "    2. Input tweet\n",
    "    Its american tradition bitch\n",
    "    2. Tokenized tweet\n",
    "    Its , american , tradition , bitch\n",
    "    \n",
    "    3. Input tweet\n",
    "    @ThroughTheVoid They love it! The only pleasure they get in life. I actually do that. I'm sure I hear a tiny squeak... Then louder ones\n",
    "    3. Tokenized tweet (separated by comma)\n",
    "    @ThroughTheVoid , They , love , it , ! , The , only , pleasure , they , get , in , life, . , I , actually , do , that, . , I'm , sure , I , hear , a , tiny , squeak , ... , Then , louder , ones\n",
    "\n",
    "    4. Input tweet\n",
    "    \" RT @latti: @AbsoHilare stop tweeting in church! Lol <--- \"\"I tweet because I'm happy, I tweet because I'm free\"\" LOL!\"\n",
    "    4. Tokenized tweet (separated by comma)\n",
    "    \" , RT , @latti, : , @AbsoHilare , stop , tweeting , in , church , ! , Lol , <--- , \" , \" , I , tweet , because , I'm , happy, tweet , because , I'm , free , \" , \" , LOL , ! , \"\n",
    "\n",
    "    5. Input tweet\n",
    "    Samsung Mini S2 portable HDD graced with colors that perfectly match your tacky beach gear: Sammy's done it aga.. http://tinyurl.com/lb5p6m\n",
    "    5. Tokenized tweet (separated by comma)\n",
    "    Samsung , Mini , S2 , portable , HDD , graced , with , colors , that , perfectly , match     your , tacky , beach , gear , : , Sammy's , done , it , aga, .. , http://tinyurl.com/lb5p6m\n",
    "\n",
    "    6. Input tweet\n",
    "    @dialloc congrats on finding your way over. it may be slow going at first. hang in there. it's kinda cool when u get up to speed.\n",
    "    6. Tokenized tweet (separated by comma)\n",
    "    @dialloc , congrats , on , finding , your , way , over , . , it , may , be , slow , going at , first , . , hang , in , there , . , it's , kinda , cool , when , u , get , up , to , speed , .\n",
    "\n",
    "    7. Input tweet\n",
    "    iPhone activation delays continue, Apple offers $30 http://twt.gs/l3Ki\n",
    "7. Tokenized tweet (separated by comma)\n",
    "iPhone , activation , delays , continue , , , Apple , offers , $ , 30 , http://twt.gs/l3Ki\n",
    "\n",
    "    8. Input tweet\n",
    "    RT @GoogleAtWork Gmail maximum attachment size now 25MB http://bit.ly/62mjw Nice!!!\n",
    "    8. Tokenized tweet (separated by comma)\n",
    "    RT , @GoogleAtWork , Gmail , maximum , attachment , size , now , 25MB , http://bit.ly/62mjw , Nice , ! , ! , !\n",
    "\n",
    "    9. Input tweet\n",
    "    RT @acfou The Ads Won Awards for Crispin; But Did Nothing for Client BurgerKing's Sales/Marketshare - Big Surprise - http://ping.fm/vw8TI\n",
    "    9. Tokenized tweet (separated by comma)\n",
    "    RT , @acfou , The , Ads , Won , Awards , for , Crispin, ; , But , Did , Nothing , for , Client , BurgerKing's , Sales , / , Marketshare , - , Big , Surprise , - , http://ping.fm/vw8TI\n",
    "\n",
    "    10. Input tweet\n",
    "    Hey doll! Great I missed True Blood yday boo lol Rt @FrankBanuat78 @jhillstephens Hello Sunshine how are u today? :-)\n",
    "    10. Tokenized tweet (separated by comma)\n",
    "    Hey , doll , ! , Great , I , missed , True , Blood , yday , boo , lol , Rt , @FrankBanuat78 , @jhillstephens , Hello , Sunshine , how , are , u , today , ? , :-)\n",
    "\n",
    "    11. Input tweet\n",
    "    Australian artist Pogo made these free songs primarily from sampled audio from Alice In Wonderland. http://www.last.fm/music/Pogo/Wonderland\n",
    "    11. Tokenized tweet (separated by comma)\n",
    "    Australian , artist , Pogo , made , these , free , songs , primarily , from , sampled , audio , from , Alice , In , Wonderland , . , http://www.last.fm/music/Pogo/Wonderland\n",
    "\n",
    "    12. Input tweet\n",
    "    @mppritchard they wanted to sell all the preorders & then sell all of the ones they had in stock to those that just walked in. Can't do both\n",
    "    12. Tokenized tweet (separated by comma)\n",
    "    @mppritchard , they , wanted , to , sell , all , the , preorders , & , then , sell , all , of , the , ones , they , had , in , stock , to , those , that , just , walked , in , . , Can't , do , both\n",
    "\n",
    "    13. Input tweet\n",
    "    Incoming: Frightened Rabbit, Sept. 22 (Tucson): If Fat Cat Records is going to send three great bands from Scot.. http://tinyurl.com/nz6xcv\n",
    "    13. Tokenized tweet (separated by comma)\n",
    "    Incoming , : , Frightened , Rabbit , , , Sept , . , 22 , ( , Tucson , ) , : , If , Fat , Cat , Records , is , going , to , send , three , great , bands , from , Scot , .. , http://tinyurl.com/nz6xcv\n",
    "\n",
    "    14. Input tweet\n",
    "    Hey @ginoandfran please greet philip! (GinoandFran live > http://ustre.am/2YyQ)\n",
    "    14. Tokenized tweet (separated by comma)\n",
    "    Hey , @ginoandfran , please , greet , philip , ! , ( , GinoandFran , live , > , http://ustre.am/2YyQ , )\n",
    "\n",
    "    15. Input tweet\n",
    "    Ik weet niet wie er achter de T-Mobile iPhone Twitter zit maar ik vind het niet echt 'corporate' taalgebruik... Best vreemd eigenlijk\n",
    "    15. Tokenized tweet (separated by comma)\n",
    "    Ik , weet , niet , wie , er , achter , de , T-Mobile , iPhone , Twitter , zit , maar , ik , vind , het , niet , echt, ' , corporate , ' ,taalgebruik , ... , Best , vreemd , eigenlijk"
   ]
  },
  {
   "cell_type": "markdown",
   "metadata": {
    "id": "-2J2AD2nmUhi"
   },
   "source": [
    "## Task 2. Implement [Byte-Pair Encoding(BPE)](https://arxiv.org/pdf/1508.07909.pdf) Tokenizer (80 points)\n",
    "\n",
    "### Task 2.1. Implementation (60 points)\n",
    "\n",
    "Implement the tokenizer as the BPETokenizer class:\n",
    "* Implement `train` method that learns merges and builds the vocabulary of the specified `vocab_size` (25 points).\n",
    "* Implement `tokenize` method that should tokenize the text according to the learnt merges (25 points).\n",
    "\n",
    "Your code should have docstrings and comments (10 points)."
   ]
  },
  {
   "cell_type": "code",
   "execution_count": 16,
   "metadata": {},
   "outputs": [],
   "source": [
    "from typing import List\n",
    "from collections import defaultdict, Counter\n",
    "import re\n",
    "\n",
    "class BPETokenizer:\n",
    "    \"\"\"\n",
    "    Byte-Pair Encoding (BPE) Tokenizer class.\n",
    "    \"\"\"\n",
    "\n",
    "    def __init__(self, vocab_size: int) -> None:\n",
    "        \"\"\"\n",
    "        Initialize the BPETokenizer.\n",
    "\n",
    "        Args:\n",
    "            vocab_size (int): The desired size of the vocabulary.\n",
    "        \"\"\"\n",
    "        self.vocab_size = vocab_size\n",
    "        self.vocab = []\n",
    "        self.word_freq = Counter()\n",
    "        self.splits = {}  # e.g. highest: ['h', 'i', 'g', 'h', 'e', 's', 't', '</w>']\n",
    "        self.merges = {}  # e.g. ('h', 'i'): 'hi'\n",
    "        self.max_iter = 100\n",
    "\n",
    "    def train(self, corpus: List[str]) -> None:\n",
    "        \"\"\"\n",
    "        Train the tokenizer on the given corpus.\n",
    "\n",
    "        Args:\n",
    "            corpus (List[str]): List of strings to train the tokenizer.\n",
    "        \"\"\"\n",
    "        for sentence in corpus:\n",
    "            # Tokenize the sentence into words and punctuation\n",
    "            tokens = re.findall(r'\\w+|[.,!?;:\"]', sentence)\n",
    "            self.word_freq += Counter(tokens + ['</w>'])  # Adding </w> to represent end of each token\n",
    "\n",
    "        # Initialize splits for each unique token in the vocabulary\n",
    "        for word in self.word_freq:\n",
    "            self.splits[word] = list(word) if word not in ['.', ',', '!', '?', ';', ':', '\"'] else [word]\n",
    "\n",
    "        # Initialize vocabulary\n",
    "        self.vocab = set(''.join(word for word in self.word_freq))\n",
    "\n",
    "        cnt = 0\n",
    "        while len(self.vocab) < self.vocab_size and cnt < self.max_iter:\n",
    "            pairs_freq = defaultdict(int)\n",
    "            # Count frequency of adjacent pairs\n",
    "            for word, freq in self.word_freq.items():\n",
    "                symbols = self.splits[word]\n",
    "                for i in range(len(symbols)-1):\n",
    "                    pairs_freq[(symbols[i], symbols[i+1])] += freq\n",
    "\n",
    "            if not pairs_freq:\n",
    "                break\n",
    "\n",
    "            best_pair = max(pairs_freq, key=pairs_freq.get)\n",
    "            # Merge the best pair in all words where it appears\n",
    "            for word in self.word_freq:\n",
    "                if best_pair in zip(self.splits[word], self.splits[word][1:]):\n",
    "                    new_word = []\n",
    "                    skip_next = False\n",
    "                    for i in range(len(self.splits[word])-1):\n",
    "                        if skip_next:\n",
    "                            skip_next = False\n",
    "                            continue\n",
    "                        if (self.splits[word][i], self.splits[word][i+1]) == best_pair:\n",
    "                            new_word.append(best_pair[0] + best_pair[1])\n",
    "                            skip_next = True\n",
    "                        else:\n",
    "                            new_word.append(self.splits[word][i])\n",
    "                    if not skip_next:\n",
    "                        new_word.append(self.splits[word][-1])\n",
    "                    self.splits[word] = new_word\n",
    "            self.vocab.update([best_pair[0] + best_pair[1]])\n",
    "            cnt += 1\n",
    "\n",
    "    def tokenize(self, text: str) -> List[str]:\n",
    "        \"\"\"\n",
    "        Tokenize the given text.\n",
    "\n",
    "        Args:\n",
    "            text (str): The input text to tokenize.\n",
    "\n",
    "        Returns:\n",
    "            List[str]: List of tokens.\n",
    "        \"\"\"\n",
    "        urls_mentions = re.findall(r'@\\w+|https?://\\S+', text)\n",
    "\n",
    "        placeholders = {f\"PLACEHOLDER_{i}\" : url_mention for i, url_mention in enumerate(urls_mentions)}\n",
    "        for placeholder, original in placeholders.items():\n",
    "            text = text.replace(original, placeholder)\n",
    "        \n",
    "        # Tokenize the text, now without URLs and @mentions\n",
    "        tokens = re.findall(r'\\w+|[.,!?;:\"]', text)\n",
    "        \n",
    "        # Post-process: reintegrate URLs and @mentions\n",
    "        final_tokens = []\n",
    "        for token in tokens:\n",
    "            if token in placeholders:\n",
    "                final_tokens.append(placeholders[token])\n",
    "            else:\n",
    "                # Apply BPE merges to the token if it's not a placeholder\n",
    "                # This part would use your BPE logic as before\n",
    "                final_tokens.append(token)  # Placeholder line for actual BPE application\n",
    "        \n",
    "        return final_tokens\n"
   ]
  },
  {
   "cell_type": "code",
   "execution_count": 17,
   "metadata": {},
   "outputs": [
    {
     "name": "stdout",
     "output_type": "stream",
     "text": [
      "['Camping', 'in', 'Maine', 'for', 'the', 'weekend', '.', 'Hey', 'Dad', ',', 'Mama', 'Loves', 'YOU', ':', 'http://www.mamapalooza.com']\n"
     ]
    }
   ],
   "source": [
    "# Example usage\n",
    "tokenizer = BPETokenizer(vocab_size=1000)\n",
    "\n",
    "# Load your training data from files\n",
    "corpus = []\n",
    "for i in range(1, 6):\n",
    "    with open(f'/home/danila/NLP_Inno/Assignment1/file{i}', 'r') as file:\n",
    "        corpus.extend(file.readlines())\n",
    "\n",
    "# Train the tokenizer\n",
    "tokenizer.train(corpus)\n",
    "\n",
    "# Tokenize a sample text\n",
    "sample_text = \"Camping in Maine for the weekend. Hey Dad, Mama Loves YOU: http://www.mamapalooza.com\"\n",
    "tokenized_text = tokenizer.tokenize(sample_text)\n",
    "print(tokenized_text)"
   ]
  },
  {
   "cell_type": "markdown",
   "metadata": {},
   "source": [
    "### Task 2.2. Analysis on Tweets Dataset (10 points)\n",
    "\n",
    "Train the BPE tokenizer on the tweets dataset. Try to tokenize the tweets with the tokenizer of different `vocab_size`. For example, train the BPE tokenizer with `vocab_size` of [base_vocab_size, 250, 500, 750, 1000]. Plot the dependency of the average length of the tokenized tweet by `vocab_size` to analyze how `vocab_size` affects the length of the tokenized tweet on average. Tell what `vocab_size` is preferrable and why."
   ]
  },
  {
   "cell_type": "code",
   "execution_count": 8,
   "metadata": {
    "scrolled": false
   },
   "outputs": [
    {
     "data": {
      "image/png": "[encoded data removed]",
      "text/plain": [
       "<Figure size 640x480 with 1 Axes>"
      ]
     },
     "metadata": {},
     "output_type": "display_data"
    }
   ],
   "source": [
    "import matplotlib.pyplot as plt\n",
    "\n",
    "#Different vocab sizes\n",
    "vocab_sizes = [250, 500, 750, 1000]\n",
    "\n",
    "# List to store average lengths\n",
    "avg_lengths = []\n",
    "\n",
    "# Train the BPE tokenizer with different vocab_size values\n",
    "for vocab_size in vocab_sizes:\n",
    "    # Initialize and train BPE tokenizer\n",
    "    tokenizer = BPETokenizer(vocab_size)\n",
    "    tokenizer.train(corpus)\n",
    "    \n",
    "    # Tokenize Tweets and calculate average length\n",
    "    total_length = sum(len(tokenizer.tokenize(tweet)) for tweet in corpus)\n",
    "    avg_length = total_length / len(corpus)\n",
    "    avg_lengths.append(avg_length)\n",
    "\n",
    "# Plot the dependency of the average length of the tokenized Tweets by vocab_size\n",
    "plt.plot(vocab_sizes, avg_lengths, marker='o')\n",
    "plt.xlabel('Vocabulary Size')\n",
    "plt.ylabel('Average Tokenized Tweet Length')\n",
    "plt.title('Dependency of Average Tokenized Tweet Length on Vocabulary Size')\n",
    "plt.grid(True)\n",
    "plt.show()"
   ]
  },
  {
   "cell_type": "markdown",
   "metadata": {},
   "source": [
    "### Task 2.3. Analysis on Dataset of Different Language (10 points)\n",
    "\n",
    "Find a small dataset of texts in a language other than English. The dataset size should be not greater than several megabytes.\n",
    "\n",
    "Train the BPE tokenizer on the dataset that you found. Try to tokenize the sentences from this dataset with the tokenizer of different `vocab_size`. Plot the dependency of the average length of the tokenized sentence by `vocab_size` to analyze how `vocab_size` affects the length of the tokenized sentence on average.\n",
    "\n",
    "Tell how how the average length of the tokenized sentence differs from the average length of the tokenized tweet. Explain why. "
   ]
  },
  {
   "cell_type": "code",
   "execution_count": 13,
   "metadata": {},
   "outputs": [
    {
     "data": {
      "image/png": "[encoded data removed]",
      "text/plain": [
       "<Figure size 640x480 with 1 Axes>"
      ]
     },
     "metadata": {},
     "output_type": "display_data"
    }
   ],
   "source": [
    "dataset = []\n",
    "with open(f'/home/danila/NLP_Inno/rusentiment_test.txt', 'r') as file:\n",
    "        dataset.extend(file.readlines())\n",
    "\n",
    "#Different vocab sizes\n",
    "vocab_sizes = [250, 500, 750, 1000]\n",
    "\n",
    "# List to store average lengths\n",
    "avg_lengths = []\n",
    "\n",
    "# Train the BPE tokenizer with different vocab_size values\n",
    "for vocab_size in vocab_sizes:\n",
    "    # Initialize and train BPE tokenizer\n",
    "    tokenizer = BPETokenizer(vocab_size)\n",
    "    tokenizer.train(dataset)\n",
    "    \n",
    "    # Tokenize Tweets and calculate average length\n",
    "    total_length = sum(len(tokenizer.tokenize(tweet)) for tweet in dataset)\n",
    "    avg_length = total_length / len(dataset)\n",
    "    avg_lengths.append(avg_length)\n",
    "\n",
    "# Plot the dependency of the average length of the tokenized Tweets by vocab_size\n",
    "plt.plot(vocab_sizes, avg_lengths, marker='o')\n",
    "plt.xlabel('Vocabulary Size')\n",
    "plt.ylabel('Average Tokenized Tweet Length')\n",
    "plt.title('Dependency of Average Tokenized Tweet Length on Vocabulary Size')\n",
    "plt.grid(True)\n",
    "plt.show()"
   ]
  },
  {
   "cell_type": "code",
   "execution_count": 15,
   "metadata": {},
   "outputs": [
    {
     "data": {
      "text/plain": [
       "['neutral',\n",
       " ',',\n",
       " '\"',\n",
       " 'хоть',\n",
       " 'и',\n",
       " 'качество',\n",
       " 'плохое',\n",
       " ',',\n",
       " 'но',\n",
       " 'обещал',\n",
       " '!',\n",
       " '!',\n",
       " '!',\n",
       " '!',\n",
       " 'ребятки',\n",
       " 'видео',\n",
       " 'привет',\n",
       " 'вам',\n",
       " '!',\n",
       " '!',\n",
       " 'Димка',\n",
       " 'Куринов',\n",
       " 'тебе',\n",
       " 'тоже',\n",
       " 'братишка',\n",
       " '!',\n",
       " '!',\n",
       " 'просто',\n",
       " 'дубарь',\n",
       " 'был',\n",
       " ',',\n",
       " 'я',\n",
       " 'вообще',\n",
       " 'там',\n",
       " 'еле',\n",
       " 'разговаривал',\n",
       " '!',\n",
       " '!',\n",
       " '\"']"
      ]
     },
     "execution_count": 15,
     "metadata": {},
     "output_type": "execute_result"
    }
   ],
   "source": [
    "tokenizer.tokenize('neutral,\"хоть и качество плохое, но обещал!!!!) ребятки видео-привет  вам!! Димка Куринов тебе тоже братишка!! просто дубарь был, я вообще там еле разговаривал!!))\"')"
   ]
  },
  {
   "cell_type": "code",
   "execution_count": null,
   "metadata": {},
   "outputs": [],
   "source": []
  }
 ],
 "metadata": {
  "colab": {
   "provenance": [],
   "toc_visible": true
  },
  "kernelspec": {
   "display_name": "Python 3 (ipykernel)",
   "language": "python",
   "name": "python3"
  },
  "language_info": {
   "codemirror_mode": {
    "name": "ipython",
    "version": 3
   },
   "file_extension": ".py",
   "mimetype": "text/x-python",
   "name": "python",
   "nbconvert_exporter": "python",
   "pygments_lexer": "ipython3",
   "version": "3.10.12"
  }
 },
 "nbformat": 4,
 "nbformat_minor": 1
}
